{
 "cells": [
  {
   "cell_type": "markdown",
   "metadata": {},
   "source": [
    "# Web Mining and Applied NLP (44-620)\n",
    "\n",
    "## Python Notebooks, Basics, and Data Structures\n",
    "\n",
    "### Student Name: MINDY CRUZ\n",
    "\n",
    "[Link to Repo](https://github.com/mindy0cruz/P2-python-ds)\n",
    "\n",
    "Perform the tasks described in the Markdown cells below.  When you have completed the assignment make sure your code cells have all been run (and have output beneath them) and ensure you have committed and pushed ALL of your changes to your assignment repository.\n",
    "\n",
    "Every question that requires you to write code will have a code cell underneath it; you may either write your entire solution in that cell or write it in a python file (`.py`), then import and run the appropriate code to answer the question.\n",
    "\n",
    "Do not use external modules (`math`, etc) for this assignment unless you are explicitly instructed to, though you may use built in python functions (`min`, `max`, etc) as you wish."
   ]
  },
  {
   "cell_type": "markdown",
   "metadata": {},
   "source": [
    "Q #1\n"
   ]
  },
  {
   "cell_type": "markdown",
   "metadata": {},
   "source": [
    "1. Modify the Markdown cell above to put your name after \"Student Name:\"; you will be expected to do this in all assignments presented in this format for this class."
   ]
  },
  {
   "cell_type": "markdown",
   "metadata": {},
   "source": [
    "Q #2\n"
   ]
  },
  {
   "cell_type": "markdown",
   "metadata": {},
   "source": [
    "2. Write code that divides any two numbers, stores the result in a variable, and prints the result with an appropriate label."
   ]
  },
  {
   "cell_type": "code",
   "execution_count": 92,
   "metadata": {},
   "outputs": [
    {
     "name": "stdout",
     "output_type": "stream",
     "text": [
      "The Answer is: 3.4\n"
     ]
    }
   ],
   "source": [
    "#Divide two numbers\n",
    "divide = 17 / 5\n",
    "#Print Result\n",
    "print(\"The Answer is:\", divide)\n"
   ]
  },
  {
   "cell_type": "markdown",
   "metadata": {},
   "source": [
    "Q #3"
   ]
  },
  {
   "cell_type": "markdown",
   "metadata": {},
   "source": [
    "3. Using loops (and potentially conditionals), write Python code that prints the factorial of each integer from 1 through 10 (which you can store in a variable if you want). The factorial of an integer is the product of all of the integers of 1 through the number. Print the result with an appropriate label."
   ]
  },
  {
   "cell_type": "code",
   "execution_count": 93,
   "metadata": {},
   "outputs": [
    {
     "name": "stdout",
     "output_type": "stream",
     "text": [
      "Factorial of 1 = 1\n",
      "Factorial of 2 = 2\n",
      "Factorial of 3 = 6\n",
      "Factorial of 4 = 24\n",
      "Factorial of 5 = 120\n",
      "Factorial of 6 = 720\n",
      "Factorial of 7 = 5040\n",
      "Factorial of 8 = 40320\n",
      "Factorial of 9 = 362880\n",
      "Factorial of 10 = 3628800\n"
     ]
    }
   ],
   "source": [
    "# Loop int 1-10\n",
    "for num in range(1, 11):\n",
    "    factorial = 1\n",
    "    \n",
    "    # Calculate Loop\n",
    "    for i in range(1, num + 1):\n",
    "        factorial *= i\n",
    "   \n",
    "    # Print the result with an appropriate label\n",
    "    print(f\"Factorial of {num} = {factorial}\")"
   ]
  },
  {
   "cell_type": "markdown",
   "metadata": {},
   "source": [
    "Q #4"
   ]
  },
  {
   "cell_type": "markdown",
   "metadata": {},
   "source": [
    "4. Write a python function that takes a single parameter and calculates and returns the average (mean) of the values in the parameter (which you may assume is iterable).  Show that your function works by printing the result of calling the function on the list in the cell below."
   ]
  },
  {
   "cell_type": "code",
   "execution_count": 94,
   "metadata": {},
   "outputs": [
    {
     "name": "stdout",
     "output_type": "stream",
     "text": [
      "Average 0.0\n"
     ]
    }
   ],
   "source": [
    "testlist = [1,-1,2,-2,3,-3,4,-4]\n",
    "\n",
    "#Calc Avg\n",
    "def calc_avg(values):\n",
    "\n",
    "    if len(values) == 0:\n",
    "        return 0\n",
    "    return sum(values) / len(values)\n",
    "\n",
    "avg_res = calc_avg(testlist)\n",
    "\n",
    "print(\"Average\", avg_res)\n"
   ]
  },
  {
   "cell_type": "markdown",
   "metadata": {},
   "source": [
    "Q #5"
   ]
  },
  {
   "cell_type": "markdown",
   "metadata": {},
   "source": [
    "5. Using your mean function above, write a function that calculates the variance of the list of numbers (see https://en.wikipedia.org/wiki/Variance for more information on the formula). In short:\n",
    "* subtract the mean of the elements in the list from every element in the list; store these values in a new list\n",
    "* square every element in the new list and sum the elements together\n",
    "* divide the resulting number by N (where N is the length of the original list)\n",
    "\n",
    "Show the result of calling your function in the lists in the code cell. You must use one or more list comprehensions or map/filter in your code.\n"
   ]
  },
  {
   "cell_type": "code",
   "execution_count": 95,
   "metadata": {},
   "outputs": [
    {
     "name": "stdout",
     "output_type": "stream",
     "text": [
      "The Variance for list1 = 1.13973309\n",
      "The Variance for list2 = 0.9257232841\n"
     ]
    }
   ],
   "source": [
    "list1 = [ 5.670e-1, -1.480e+0, -5.570e-1, -1.470e+0, 7.340e-1, 1.050e+0, 4.480e-1, 2.570e-1, -1.970e+0, -1.460e+0]\n",
    "list2 = [-1.780e+0, 2.640e-1, 1.160e+0, 9.080e-1, 1.780e+0, 1.080e+0, 1.050e+0, -4.630e-2, 1.520e+0, 5.350e-1]\n",
    "# the variances of both lists should be relatively close to 1 (off by less than .15)\n",
    "\n",
    "def calc_avg(values):\n",
    "    if not values:\n",
    "        return (0)\n",
    "    total = sum(values)\n",
    "    count = len(values)\n",
    "    return total/count\n",
    "\n",
    "def calc_var(values):\n",
    "    if not values:\n",
    "        return(0)\n",
    "    #Calc Mean\n",
    "    mean = calc_avg(values)\n",
    "\n",
    "    #Calc deviations from the mean\n",
    "    dev = [x - mean for x in values]\n",
    "\n",
    "    #Square the deviations\n",
    "    sqrd_dev = [d ** 2 for d in dev]\n",
    "\n",
    "    #Calc Variance\n",
    "    var = sum(sqrd_dev)/ len(values)\n",
    "\n",
    "    return var\n",
    "\n",
    "#Calc for both list\n",
    "var_list1 = calc_var(list1)\n",
    "var_list2 = calc_var(list2)\n",
    "\n",
    "#PRINT\n",
    "print (f\"The Variance for list1 = {var_list1}\")\n",
    "print (f\"The Variance for list2 = {var_list2}\")\n",
    "\n",
    "\n",
    "\n"
   ]
  },
  {
   "cell_type": "markdown",
   "metadata": {},
   "source": [
    "Q #6\n"
   ]
  },
  {
   "cell_type": "markdown",
   "metadata": {},
   "source": [
    "6. Create a list with at least 15 elements in it. Use list slicing to print the following:\n",
    "* The first 5 elements of the list\n",
    "* The last 5 elements of the list\n",
    "* The list reversed (hint, show the entire list with a stride of -1)\n",
    "* Every second element in the list\n",
    "* Every third element in the list (stride of 3)"
   ]
  },
  {
   "cell_type": "code",
   "execution_count": 96,
   "metadata": {},
   "outputs": [
    {
     "name": "stdout",
     "output_type": "stream",
     "text": [
      "First Five Elements: [1, 3, 5, 6, 8]\n",
      "Last Five Elements: [57, 60, 65, 68, 69]\n",
      "Reversed list: [69, 68, 65, 60, 57, 45, 38, 26, 25, 11, 8, 6, 5, 3, 1]\n",
      "Every Second Element: [1, 5, 8, 25, 38, 57, 65, 69]\n",
      "Every Third Element: [1, 6, 25, 45, 65]\n"
     ]
    }
   ],
   "source": [
    "# 15 Element List\n",
    "slice_list = [1, 3, 5, 6, 8, 11, 25, 26, 38, 45, 57, 60, 65, 68, 69]\n",
    "\n",
    "# First 5\n",
    "First_five = slice_list[:5]\n",
    "#Print first 5\n",
    "print (\"First Five Elements:\", First_five)\n",
    "\n",
    "# Last 5\n",
    "Last_five = slice_list[-5:]\n",
    "#Print last 5\n",
    "print (\"Last Five Elements:\", Last_five)\n",
    "\n",
    "#Reverse List\n",
    "rev_list = slice_list[::-1]\n",
    "#Print Reverse List\n",
    "print(\"Reversed list:\", rev_list)\n",
    "\n",
    "#Every Second Element\n",
    "sec_elm = slice_list[::2]\n",
    "#Print Every Second Element\n",
    "print(\"Every Second Element:\", sec_elm)\n",
    "\n",
    "#Every Third Element\n",
    "third_elm = slice_list [::3]\n",
    "#Print\n",
    "print(\"Every Third Element:\", third_elm)"
   ]
  },
  {
   "cell_type": "markdown",
   "metadata": {},
   "source": [
    "Q #7"
   ]
  },
  {
   "cell_type": "markdown",
   "metadata": {},
   "source": [
    "7. Build a dictionary that contains the following information about this class (with appropriate names as keys):\n",
    "* The name\n",
    "* The course number\n",
    "* The semester/term in which you are taking this course\n",
    "* The number of credit hours this course counts for\n",
    "* A list of the course learning objectives\n",
    "\n",
    "The majority of this information can be found in the syllabus. Print the dictionary."
   ]
  },
  {
   "cell_type": "code",
   "execution_count": 97,
   "metadata": {},
   "outputs": [
    {
     "name": "stdout",
     "output_type": "stream",
     "text": [
      "{'name': 'Web Mining and NPL', 'course_number': '44620', 'semester': 'Fall 2024', 'credit_hours': 3, 'course_objectives': ['Manage Python libraries and packages', 'Interact with hosted Version Control Systems (e.g. Git and GitHub).', 'Programmatically obtain and transform data from web-based APIs and HTML pages into a usable form', 'Describe the steps in a basic Natural Language Processing (NLP) Pipeline.', 'Use preexisting tools and software libraries to perform some NLP, such as sentiment analysis.', 'Explain results and conclusions drawn from visualized information.']}\n"
     ]
    }
   ],
   "source": [
    "course_dictonary = {\n",
    "    \"name\": \"Web Mining and NPL\",\n",
    "    \"course_number\": \"44620\",\n",
    "    \"semester\": \"Fall 2024\",\n",
    "    \"credit_hours\": 3,\n",
    "    \"course_objectives\": [\n",
    "        \"Manage Python libraries and packages\",\n",
    "        \"Interact with hosted Version Control Systems (e.g. Git and GitHub).\",\n",
    "        \"Programmatically obtain and transform data from web-based APIs and HTML pages into a usable form\",\n",
    "        \"Describe the steps in a basic Natural Language Processing (NLP) Pipeline.\",\n",
    "        \"Use preexisting tools and software libraries to perform some NLP, such as sentiment analysis.\",\n",
    "        \"Explain results and conclusions drawn from visualized information.\"]}\n",
    "\n",
    "print(course_dictonary)"
   ]
  },
  {
   "cell_type": "markdown",
   "metadata": {},
   "source": [
    "Q #8"
   ]
  },
  {
   "cell_type": "markdown",
   "metadata": {},
   "source": [
    "8.  Given the dictionary defined in the code cell below, print the list of level 3 spells the character has."
   ]
  },
  {
   "cell_type": "code",
   "execution_count": 98,
   "metadata": {},
   "outputs": [
    {
     "name": "stdout",
     "output_type": "stream",
     "text": [
      "Level 3 Spells: ['Mass Healing Word', 'Nondetection', 'Revivify', 'Feign Death', 'Speak with Dead']\n"
     ]
    }
   ],
   "source": [
    "player_character = {'name': 'Kitab',\n",
    "                   'class': [('Cleric: Knowledge', 7)],\n",
    "                   'spells': {'cantrip': ['Guidance', 'Light', 'Thaumaturgy', 'Toll the Dead', 'Word of Radiance'],\n",
    "                             'level 1': ['Command', 'Detect Magic', 'Healing Word', 'Identify', 'Sleep'],\n",
    "                             'level 2': ['Augury', 'Calm Emotions', 'Command', 'Invisibility', 'Lesser Restoration'],\n",
    "                             'level 3': ['Mass Healing Word', 'Nondetection', 'Revivify', 'Feign Death', 'Speak with Dead'],\n",
    "                             'level 4': ['Banishment', 'Confusion']}\n",
    "                   }\n",
    "\n",
    "#print\n",
    "Lev_3_spells = player_character['spells']['level 3']\n",
    "print(\"Level 3 Spells:\", Lev_3_spells)"
   ]
  },
  {
   "cell_type": "markdown",
   "metadata": {},
   "source": [
    "Q #9"
   ]
  },
  {
   "cell_type": "markdown",
   "metadata": {},
   "source": [
    "9. Write code to determine the number of unique elements in the list below.  You MUST use a set in finding your solution.  Print the number of unique values in the list with an appropriate label."
   ]
  },
  {
   "cell_type": "code",
   "execution_count": 99,
   "metadata": {},
   "outputs": [
    {
     "name": "stdout",
     "output_type": "stream",
     "text": [
      "Unique Values = 12\n"
     ]
    }
   ],
   "source": [
    "values = [10, 11, 10, 8, 1, 12, 0, 1, 6, 5, 5, 13, 6, 15, 0, 0, 1, 1, 9, 7]\n",
    "\n",
    "#Find Unique values\n",
    "unq_count = len(set(values))\n",
    "\n",
    "#PRINT\n",
    "print(\"Unique Values =\", unq_count)"
   ]
  },
  {
   "cell_type": "markdown",
   "metadata": {},
   "source": [
    "Q #10"
   ]
  },
  {
   "cell_type": "markdown",
   "metadata": {},
   "source": [
    "10. Create a new Jupyter Notebook (the name of the notebook should be your S number). Add a Markdown cell that contains your name. Add a Code cell and write Python that uses loops to draw the following pattern:\n",
    "\n",
    "```\n",
    "*      *\n",
    "**    **\n",
    "***  ***\n",
    "********\n",
    "```\n",
    "Make sure to add and submit both the new notebook and the changes to this notebook for this assignment."
   ]
  },
  {
   "cell_type": "code",
   "execution_count": 100,
   "metadata": {},
   "outputs": [
    {
     "data": {
      "text/plain": [
       "0"
      ]
     },
     "execution_count": 100,
     "metadata": {},
     "output_type": "execute_result"
    }
   ],
   "source": [
    "import os\n",
    "os.system('jupyter nbconvert --to html python-ds.ipynb')\n"
   ]
  },
  {
   "cell_type": "markdown",
   "metadata": {},
   "source": []
  }
 ],
 "metadata": {
  "kernelspec": {
   "display_name": "Python 3",
   "language": "python",
   "name": "python3"
  },
  "language_info": {
   "codemirror_mode": {
    "name": "ipython",
    "version": 3
   },
   "file_extension": ".py",
   "mimetype": "text/x-python",
   "name": "python",
   "nbconvert_exporter": "python",
   "pygments_lexer": "ipython3",
   "version": "3.12.3"
  }
 },
 "nbformat": 4,
 "nbformat_minor": 4
}
